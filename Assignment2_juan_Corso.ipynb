{
  "nbformat": 4,
  "nbformat_minor": 0,
  "metadata": {
    "colab": {
      "provenance": []
    },
    "kernelspec": {
      "name": "python3",
      "display_name": "Python 3"
    },
    "language_info": {
      "name": "python"
    }
  },
  "cells": [
    {
      "cell_type": "code",
      "source": [
        "class vehicle:\n",
        "  def __init__(self,name_of_vehicle,max_speed,average_of_vehicle):\n",
        "    self.name_of_vehicle = name_of_vehicle\n",
        "    self.max_speed = max_speed\n",
        "    self.average_of_vehicle = average_of_vehicle\n",
        "\n",
        "class car(vehicle):\n",
        "  def __init__(self,name_of_vehicle,max_speed,average_of_vehicle):\n",
        "    vehicle.__init__(self,name_of_vehicle,max_speed,average_of_vehicle)\n",
        "\n",
        "\n",
        "  def seating_capacity(self, capacity):\n",
        "    self.capacity=capacity\n",
        "    return (f\"Car's name: {self.name_of_vehicle}, Capacity: {self.capacity}\")\n"
      ],
      "metadata": {
        "id": "lpoC8X2KraQE"
      },
      "execution_count": 92,
      "outputs": []
    },
    {
      "cell_type": "code",
      "source": [
        "car1 = car('car1_name',120,'avg vehicle')\n",
        "car1.seating_capacity(3)"
      ],
      "metadata": {
        "colab": {
          "base_uri": "https://localhost:8080/",
          "height": 35
        },
        "id": "3Tp4cjNpsjxU",
        "outputId": "091a58e1-f142-40b7-a48c-21de300a1a4b"
      },
      "execution_count": 95,
      "outputs": [
        {
          "output_type": "execute_result",
          "data": {
            "text/plain": [
              "\"Car's name: car1_name, Capacity: 3\""
            ],
            "application/vnd.google.colaboratory.intrinsic+json": {
              "type": "string"
            }
          },
          "metadata": {},
          "execution_count": 95
        }
      ]
    },
    {
      "cell_type": "markdown",
      "source": [
        "Q4 --> OOP"
      ],
      "metadata": {
        "id": "iavxELXTvoDF"
      }
    },
    {
      "cell_type": "code",
      "source": [
        "class Person:\n",
        "  def __init__(self,name,age,gender):\n",
        "    self.name=name\n",
        "    self.__age=age\n",
        "    self.gender=gender\n",
        "\n",
        "  def say_hello(self):\n",
        "    print(f'Hi, may name is {self.name}')\n",
        "\n",
        "  def is_adult(self):\n",
        "    if(self.age>=18):\n",
        "      return True\n",
        "    else:\n",
        "      return False\n",
        "\n",
        "  def get_age(self):\n",
        "    return self.__age\n",
        "\n",
        "  def set_age(self,age):\n",
        "    self.__age=age"
      ],
      "metadata": {
        "id": "0sV39WUSvrqk"
      },
      "execution_count": 65,
      "outputs": []
    },
    {
      "cell_type": "code",
      "source": [
        "class student(Person):\n",
        "  def __init__(self,name,age,gender):\n",
        "    Person.__init__(self,name,age,gender)\n",
        "\n",
        "  def set_info(self,student_id,course):\n",
        "    self.student_id=student_id\n",
        "    self.course=course\n",
        "\n",
        "\n",
        "  def say_hello(self):\n",
        "    print(f'Students name: {self.name} ')"
      ],
      "metadata": {
        "id": "KKrY9oAF1OBo"
      },
      "execution_count": 81,
      "outputs": []
    },
    {
      "cell_type": "code",
      "source": [
        "class Teacher(Person):\n",
        "  def __init__(self,name,age,gender):\n",
        "    Person.__init__(self,name,age,gender)\n",
        "\n",
        "\n",
        "  def set_info(self,teacher_id,subject):\n",
        "    self.teacher_id=teacher_id\n",
        "    self.subject=subject\n",
        "\n",
        "\n",
        "  def say_hello(self):\n",
        "    print(f' Teachers name: {self.name}, teacher ID: {self.teacher_id} ')"
      ],
      "metadata": {
        "id": "gW7y6r5l1Qjk"
      },
      "execution_count": 82,
      "outputs": []
    },
    {
      "cell_type": "code",
      "source": [
        "std1=student('juan',23,'male')\n",
        "std1.set_info(123,'122')\n",
        "std1.say_hello()\n",
        "\n",
        "tch1=Teacher('marco',50,'male')\n",
        "tch1.set_info(100000001,'Databases')\n",
        "tch1.say_hello()"
      ],
      "metadata": {
        "colab": {
          "base_uri": "https://localhost:8080/"
        },
        "id": "QdaTg1q72FdD",
        "outputId": "254c189c-6e12-4b09-cb01-cb65611292f1"
      },
      "execution_count": 83,
      "outputs": [
        {
          "output_type": "stream",
          "name": "stdout",
          "text": [
            "Students name: juan \n",
            " Teachers name: marco, teacher ID: 100000001 \n"
          ]
        }
      ]
    },
    {
      "cell_type": "code",
      "source": [
        "#Q4 ENCAPSULATION\n",
        "\n",
        "std1=student('juan',23,'male')\n",
        "std1.set_info(123,'122')\n",
        "std1.say_hello()\n",
        "\n",
        "tch1=Teacher('marco',50,'male')\n",
        "tch1.set_info(100000001,'Databases')\n",
        "tch1.say_hello()\n",
        "tch1.get_age()\n",
        "tch1.set_age(12)\n",
        "tch1.get_age()"
      ],
      "metadata": {
        "colab": {
          "base_uri": "https://localhost:8080/"
        },
        "id": "Y5hW9whs4vQj",
        "outputId": "138c3bcd-ef26-4815-eb25-ff82350b8126"
      },
      "execution_count": 86,
      "outputs": [
        {
          "output_type": "stream",
          "name": "stdout",
          "text": [
            "Students name: juan \n",
            " Teachers name: marco, teacher ID: 100000001 \n"
          ]
        },
        {
          "output_type": "execute_result",
          "data": {
            "text/plain": [
              "12"
            ]
          },
          "metadata": {},
          "execution_count": 86
        }
      ]
    }
  ]
}